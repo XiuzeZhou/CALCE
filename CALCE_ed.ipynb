{
 "cells": [
  {
   "cell_type": "code",
   "execution_count": 1,
   "id": "5a0c139d",
   "metadata": {},
   "outputs": [],
   "source": [
    "import numpy as np\n",
    "import pandas as pd\n",
    "import glob\n",
    "import matplotlib.pyplot as plt\n",
    "%matplotlib inline"
   ]
  },
  {
   "cell_type": "code",
   "execution_count": 3,
   "id": "f504e04a",
   "metadata": {},
   "outputs": [],
   "source": [
    "def drop_outlier(array, count, bins):\n",
    "    index = []\n",
    "    range_ = np.arange(1, count, bins)\n",
    "    for i in range_[:-1]:\n",
    "        array_lim = array[i:i+bins]\n",
    "        sigma = np.std(array_lim)\n",
    "        mean = np.mean(array_lim)\n",
    "        th_max, th_min = mean + sigma*2, mean - sigma*2\n",
    "        idx = np.where((array_lim < th_max)&(array_lim > th_min))\n",
    "        idx = idx[0] + i\n",
    "        index.extend(list(idx))\n",
    "    return np.array(index)"
   ]
  },
  {
   "cell_type": "markdown",
   "id": "ff839ca7",
   "metadata": {},
   "source": [
    "### Extract File From Datasets"
   ]
  },
  {
   "cell_type": "code",
   "execution_count": 4,
   "id": "deb8dcf5",
   "metadata": {},
   "outputs": [],
   "source": [
    "battery_list = ['CS2_35', 'CS2_36', 'CS2_37', 'CS2_38']\n",
    "\n",
    "dir_path = 'dev/CALCE'\n",
    "battery = {}\n",
    "for name in battery_list:\n",
    "    print('Load Dataset ' + name + ' ....')\n",
    "    path = glob.glob(dir_path + name + '/*.xlsx')\n",
    "    dates = []\n",
    "    for p in path:\n",
    "        df = pd.read_excel(p, sheetname=1)\n",
    "        print('Load ' + str(p) + ' ...')\n",
    "        dates.append(df['Date_time'][0])\n",
    "    idx = np.argsort(dates)\n",
    "    path_sorted = np.array(path)[idx]\n",
    "    \n",
    "    count = 0\n",
    "    discharge_capacities = []\n",
    "    health_indicator = []\n",
    "    internal_resistance = []\n",
    "    CCCT = []\n",
    "    CVCT = []\n",
    "    for p in path_sorted:"
   ]
  },
  {
   "cell_type": "code",
   "execution_count": null,
   "id": "46572403",
   "metadata": {},
   "outputs": [],
   "source": []
  },
  {
   "cell_type": "code",
   "execution_count": null,
   "id": "80233d63",
   "metadata": {},
   "outputs": [],
   "source": []
  }
 ],
 "metadata": {
  "kernelspec": {
   "display_name": "Python 3",
   "language": "python",
   "name": "python3"
  },
  "language_info": {
   "codemirror_mode": {
    "name": "ipython",
    "version": 3
   },
   "file_extension": ".py",
   "mimetype": "text/x-python",
   "name": "python",
   "nbconvert_exporter": "python",
   "pygments_lexer": "ipython3",
   "version": "3.8.8"
  }
 },
 "nbformat": 4,
 "nbformat_minor": 5
}
