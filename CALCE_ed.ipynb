{
 "cells": [
  {
   "cell_type": "code",
   "execution_count": 1,
   "id": "2f9d7111",
   "metadata": {},
   "outputs": [],
   "source": [
    "import numpy as np\n",
    "import pandas as pd\n",
    "import glob\n",
    "import matplotlib.pyplot as plt\n",
    "%matplotlib inline"
   ]
  },
  {
   "cell_type": "code",
   "execution_count": 3,
   "id": "a196b92b",
   "metadata": {},
   "outputs": [],
   "source": [
    "def drop_outlier(array, count, bins):\n",
    "    index = []\n",
    "    range_ = np.arange(1, count, bins)\n",
    "    for i in range_[:-1]:\n",
    "        array_lim = array[i:i+bins]\n",
    "        sigma = np.std(array_lim)\n",
    "        mean = np.mean(array_lim)\n",
    "        th_max, th_min = mean + sigma*2, mean - sigma*2\n",
    "        idx = np.where((array_lim < th_max)&(array_lim > th_min))\n",
    "        idx = idx[0] + i\n",
    "        index.extend(list(idx))\n",
    "    return np.array(index)"
   ]
  },
  {
   "cell_type": "markdown",
   "id": "7088ed6a",
   "metadata": {},
   "source": [
    "### Extract File From Datasets"
   ]
  },
  {
   "cell_type": "code",
   "execution_count": 4,
   "id": "38cdb594",
   "metadata": {},
   "outputs": [],
   "source": [
    "battery_list = ['CS2_35', 'CS2_36', 'CS2_37', 'CS2_38']\n",
    "\n",
    "dir_path = 'dev/CALCE'"
   ]
  },
  {
   "cell_type": "code",
   "execution_count": null,
   "id": "6caaae11",
   "metadata": {},
   "outputs": [],
   "source": []
  },
  {
   "cell_type": "code",
   "execution_count": null,
   "id": "119d1617",
   "metadata": {},
   "outputs": [],
   "source": []
  }
 ],
 "metadata": {
  "kernelspec": {
   "display_name": "Python 3",
   "language": "python",
   "name": "python3"
  },
  "language_info": {
   "codemirror_mode": {
    "name": "ipython",
    "version": 3
   },
   "file_extension": ".py",
   "mimetype": "text/x-python",
   "name": "python",
   "nbconvert_exporter": "python",
   "pygments_lexer": "ipython3",
   "version": "3.8.8"
  }
 },
 "nbformat": 4,
 "nbformat_minor": 5
}
