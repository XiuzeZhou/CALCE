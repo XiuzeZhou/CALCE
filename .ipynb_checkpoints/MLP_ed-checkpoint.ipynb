{
 "cells": [
  {
   "cell_type": "code",
   "execution_count": 6,
   "id": "66955e07",
   "metadata": {},
   "outputs": [],
   "source": [
    "import numpy as np\n",
    "import random\n",
    "import math\n",
    "import os\n",
    "import matplotlib.pyplot as plt\n",
    "import pandas as pd\n",
    "import glob\n",
    "import torch\n",
    "import torch.nn as nn\n",
    "import torch.nn.functional as F\n",
    "import torchvision\n",
    "%matplotlib inline\n",
    "\n",
    "from math import sqrt\n",
    "from sklearn.metrics import mean_absolute_error\n",
    "from sklearn.metrics import mean_squared_error"
   ]
  },
  {
   "cell_type": "code",
   "execution_count": 7,
   "id": "2a612c9b",
   "metadata": {},
   "outputs": [],
   "source": [
    "# !pip install torch\n",
    "# !pip install torchvision"
   ]
  },
  {
   "cell_type": "code",
   "execution_count": 8,
   "id": "b1f4bf74",
   "metadata": {},
   "outputs": [],
   "source": [
    "def drop_outlier(array,count,bins):\n",
    "    index = []\n",
    "    range_ = np.arange(1,count,bins)\n",
    "    for i in range_[:-1]:\n",
    "        array_lim = array[i:i+bins]\n",
    "        sigma = np.std(array_lim)\n",
    "        mean = np.mean(array_lim)\n",
    "        th_max,th_min = mean + sigma*2, mean - sigma*2\n",
    "        idx = np.where((array_lim < th_max) & (array_lim > th_min))\n",
    "        idx = idx[0] + i\n",
    "        index.extend(list(idx))\n",
    "    return np.array(index)"
   ]
  },
  {
   "cell_type": "markdown",
   "id": "cfe0dd16",
   "metadata": {},
   "source": [
    "#### Cycled at constant current of 1°C"
   ]
  },
  {
   "cell_type": "code",
   "execution_count": 10,
   "id": "6fe3f414",
   "metadata": {},
   "outputs": [
    {
     "name": "stdout",
     "output_type": "stream",
     "text": [
      "Load Dataset CS2_35 ...\n",
      "Load Dataset CS2_36 ...\n",
      "Load Dataset CS2_37 ...\n",
      "Load Dataset CS2_38 ...\n"
     ]
    }
   ],
   "source": [
    "Battary_list = ['CS2_35', 'CS2_36', 'CS2_37', 'CS2_38']\n",
    "\n",
    "dir_path = 'datasets/CALCE/'\n",
    "Battery = {}\n",
    "for name in Battary_list:\n",
    "    print('Load Dataset ' + name + ' ...')\n",
    "    path = glob.glob(dir_path + name + '/*.xlsx')\n",
    "    dates = []\n",
    "    for p in path:\n",
    "        df = pd.read_excel(p, sheetname=1)\n",
    "        print('Load ' + str(p) + ' ...')\n",
    "        dates.append(df['Date_Time'][0])\n",
    "    idx = np.argsort(dates)\n",
    "    path_sorted = np.array(path)[idx]\n",
    "    \n",
    "    count = 0\n",
    "    discharge_capacities = []\n",
    "    health_indicator = []\n",
    "    internal_resistance = []\n",
    "    CCCT = []\n",
    "    CVCT = []\n",
    "    for p in path_sorted:\n",
    "        df = pd.read_excel(p,sheetname=1)\n",
    "        print('Load ' + str(p) + ' ...')\n",
    "        cycles = list(set(df['Cycle_Index']))\n",
    "        for c in cycles:\n",
    "            df_lim = df[df['Cycle_Index'] == c]\n",
    "            #Charging\n",
    "            df_c = df_lim[(df_lim['Step_Index'] == 2)|(df_lim['Step_Index'] == 4)]\n",
    "            c_v = df_c['Voltage(V)']\n",
    "            c_c = df_c['Current(A)']\n",
    "            c_t = df_c['Test_Time(s)']\n",
    "            #CC or CV\n",
    "            df_cc = df_lim[df_lim['Step_Index'] == 2]\n",
    "            df_cv = df_lim[df_lim['Step_Index'] == 4]\n",
    "            CCCT.append(np.max(df_cc['Test_Time(s)'])-np.min(df_cc['Test_Time(s)']))\n",
    "            CVCT.append(np.max(df_cv['Test_Time(s)'])-np.min(df_cv['Test_Time(s)']))\n",
    "\n",
    "            #Discharging\n",
    "            df_d = df_lim[df_lim['Step_Index'] == 7]\n",
    "            d_v = df_d['Voltage(V)']\n",
    "            d_c = df_d['Current(A)']\n",
    "            d_t = df_d['Test_Time(s)']\n",
    "            d_im = df_d['Internal_Resistance(Ohm)']\n",
    "\n",
    "            if(len(list(d_c)) != 0):\n",
    "                time_diff = np.diff(list(d_t))\n",
    "                d_c = np.array(list(d_c))[1:]\n",
    "                discharge_capacity = time_diff*d_c/3600 # Q = A*h\n",
    "                discharge_capacity = [np.sum(discharge_capacity[:n]) for n in range(discharge_capacity.shape[0])]\n",
    "                discharge_capacities.append(-1*discharge_capacity[-1])\n",
    "\n",
    "                dec = np.abs(np.array(d_v) - 3.8)[1:]\n",
    "                start = np.array(discharge_capacity)[np.argmin(dec)]\n",
    "                dec = np.abs(np.array(d_v) - 3.4)[1:]\n",
    "                end = np.array(discharge_capacity)[np.argmin(dec)]\n",
    "                health_indicator.append(-1 * (end - start))\n",
    "\n",
    "                internal_resistance.append(np.mean(np.array(d_im)))\n",
    "                count += 1\n",
    "\n",
    "    discharge_capacities = np.array(discharge_capacities)\n",
    "    health_indicator = np.array(health_indicator)\n",
    "    internal_resistance = np.array(internal_resistance)\n",
    "    CCCT = np.array(CCCT)\n",
    "    CVCT = np.array(CVCT)\n",
    "    \n",
    "    idx = drop_outlier(discharge_capacities, count, 40)\n",
    "    idx = idx.astype(int)\n",
    "    df_result = pd.DataFrame({'cycle':np.linspace(1,idx.shape[0],idx.shape[0]),\n",
    "                              'capacity':discharge_capacities[idx],\n",
    "                              'SoH':health_indicator[idx],\n",
    "                              'resistance':internal_resistance[idx],\n",
    "                              'CCCT':CCCT[idx],\n",
    "                              'CVCT':CVCT[idx]})\n",
    "    Battery[name] = df_result"
   ]
  },
  {
   "cell_type": "code",
   "execution_count": null,
   "id": "5d951b27",
   "metadata": {},
   "outputs": [],
   "source": []
  },
  {
   "cell_type": "code",
   "execution_count": null,
   "id": "ab03204b",
   "metadata": {},
   "outputs": [],
   "source": []
  },
  {
   "cell_type": "code",
   "execution_count": null,
   "id": "3de60053",
   "metadata": {},
   "outputs": [],
   "source": []
  }
 ],
 "metadata": {
  "kernelspec": {
   "display_name": "Python 3",
   "language": "python",
   "name": "python3"
  },
  "language_info": {
   "codemirror_mode": {
    "name": "ipython",
    "version": 3
   },
   "file_extension": ".py",
   "mimetype": "text/x-python",
   "name": "python",
   "nbconvert_exporter": "python",
   "pygments_lexer": "ipython3",
   "version": "3.8.8"
  }
 },
 "nbformat": 4,
 "nbformat_minor": 5
}
